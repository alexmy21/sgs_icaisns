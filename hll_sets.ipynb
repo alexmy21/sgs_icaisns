{
 "cells": [
  {
   "cell_type": "code",
   "execution_count": null,
   "metadata": {},
   "outputs": [],
   "source": [
    "# using Pkg\n",
    "# Pkg.activate(\".\")\n",
    "# Pkg.instantiate()\n",
    "# Pkg.add(\"CSV\")\n",
    "# Pkg.add(\"Arrow\")\n",
    "# Pkg.add(\"Tables\")\n",
    "# Pkg.add(\"JSON3\")"
   ]
  },
  {
   "cell_type": "code",
   "execution_count": 1,
   "metadata": {},
   "outputs": [
    {
     "name": "stdout",
     "output_type": "stream",
     "text": [
      "UInt32[0x00000000, 0x00000000, 0x00000000, 0x00000000, 0x00000000, 0x00000000, 0x00000001, 0x00000000, 0x00000000, 0x00000000, 0x00000000, 0x00000000, 0x00000000, 0x00000000, 0x00000000, 0x00000000, 0x00000020, 0x00000000, 0x00000002, 0x00000000, 0x00000000, 0x00000000, 0x00000000, 0x00000000, 0x00000008, 0x00000000, 0x00000015, 0x00000008, 0x00000000, 0x00000000, 0x00000001, 0x00000001]\n",
      "10\n",
      "UInt32[0x00000001, 0x00000002, 0x00000000, 0x00000000, 0x00000000, 0x00000001, 0x00000000, 0x00000004, 0x00000040, 0x00000000, 0x00000000, 0x00000000, 0x00000000, 0x00000000, 0x00000000, 0x00000000, 0x0000000a, 0x00000000, 0x00000000, 0x00000000, 0x00000001, 0x00000000, 0x00000000, 0x00000000, 0x00000000, 0x00000002, 0x00000000, 0x00000000, 0x00000002, 0x00000000, 0x00000000, 0x00000000]\n",
      "11\n",
      "Size of hll1: 32; \n",
      "Size of hll1_seeded: 32\n"
     ]
    }
   ],
   "source": [
    "using Random\n",
    "using FilePathsBase: extension, Path\n",
    "\n",
    "include(\"src/sets32.jl\")\n",
    "\n",
    "import .HllSets as set\n",
    "\n",
    "# Initialize test HllSets\n",
    "hll1 = set.HllSet{5}(); hll1_seeded = set.HllSet{5}()\n",
    "hll2 = set.HllSet{5}(); hll2_seeded = set.HllSet{5}()\n",
    "hll3 = set.HllSet{5}(); hll3_seeded = set.HllSet{5}()\n",
    "hll4 = set.HllSet{5}(); hll4_seeded = set.HllSet{5}()\n",
    "hll5 = set.HllSet{5}(); hll5_seeded = set.HllSet{5}()\n",
    "\n",
    "# Generate datasets from random strings\n",
    "s1 = Set(randstring(7) for _ in 1:10)\n",
    "s2 = Set(randstring(7) for _ in 1:15)\n",
    "s3 = Set(randstring(7) for _ in 1:100)\n",
    "s4 = Set(randstring(7) for _ in 1:20)\n",
    "s5 = Set(randstring(7) for _ in 1:130)\n",
    "\n",
    "# Add datasets to HllSets\n",
    "set.add!(hll1, s1); set.add!(hll1_seeded, s1, seed=123)\n",
    "set.add!(hll2, s2); set.add!(hll2_seeded, s2, seed=123)\n",
    "set.add!(hll3, s3); set.add!(hll3_seeded, s3, seed=123)\n",
    "set.add!(hll4, s4); set.add!(hll4_seeded, s4, seed=123)\n",
    "set.add!(hll5, s5); set.add!(hll5_seeded, s5, seed=123)\n",
    "\n",
    "println(hll1.counts, \"\\n\", count(hll1))\n",
    "println(hll1_seeded.counts, \"\\n\", count(hll1_seeded))\n",
    "\n",
    "println(\"Size of hll1: \", set.sizeof(hll1), \"; \\nSize of hll1_seeded: \", set.sizeof(hll1_seeded))"
   ]
  },
  {
   "cell_type": "code",
   "execution_count": 6,
   "metadata": {},
   "outputs": [
    {
     "name": "stdout",
     "output_type": "stream",
     "text": [
      "10 : 10\n",
      "15 : 17\n",
      "100 : 97\n",
      "20 : 16\n",
      "130 : 126\n",
      "\n",
      "union:\n",
      "275 : 240\n",
      "\n",
      "intersection (standard HllSet with seeded):\n",
      "0\n"
     ]
    }
   ],
   "source": [
    "# Print cardinality of datasets and HllSets side by side\n",
    "println(length(s1), \" : \", count(hll1))\n",
    "println(length(s2), \" : \", count(hll2))\n",
    "println(length(s3), \" : \", count(hll3))\n",
    "println(length(s4), \" : \", count(hll4))\n",
    "println(length(s5), \" : \", count(hll5))\n",
    "\n",
    "# union\n",
    "println(\"\\nunion:\\n\", length(s1 ∪ s2 ∪ s3 ∪ s4 ∪ s5), \" : \", count(hll1 ∪ hll2 ∪ hll3 ∪ hll4 ∪ hll5), \"\\n\")\n",
    "\n",
    "# intersection\n",
    "println(\"intersection (standard HllSet with seeded):\\n\", count(hll1 ∩ hll1_seeded))\n"
   ]
  },
  {
   "cell_type": "code",
   "execution_count": 7,
   "metadata": {},
   "outputs": [
    {
     "name": "stdout",
     "output_type": "stream",
     "text": [
      "A: 11\n",
      "B: 10\n",
      "C: 7\n",
      "U: 12\n",
      "\n",
      "AB = A ∩ B: 9\n",
      "AC = A ∩ C: 6\n",
      "BC = B ∩ C: 7\n",
      "\n",
      "P(A) = A / U: 0.9166666666666666\n",
      "P(B) = B / U: 0.8333333333333334\n",
      "P(C) = C / U: 0.5833333333333334\n",
      "\n",
      "P(A | B) = AB / B: 0.9\n",
      "P(B | A) = AB / A: 0.8181818181818182\n",
      "P(A | C) = AC / C: 0.8571428571428571\n",
      "P(C | A) = AC / A: 0.5454545454545454\n",
      "\n",
      "P(B | C) = BC / C: 1.0\n",
      "P(C | B) = BC / B: 0.7\n",
      "\n",
      "HLL xor: 4\n",
      "hll_int: 9\n",
      "\n",
      "=====================================\n",
      "Comp 1: 3\n",
      "A: 11\n",
      "\n",
      "=====================================\n",
      "Comp 2: 1\n",
      "B: 10\n"
     ]
    }
   ],
   "source": [
    "A = set.HllSet{5}()\n",
    "B = set.HllSet{5}()\n",
    "C = set.HllSet{5}()\n",
    "\n",
    "items_t1 = Set([\"string0\", \"string1\", \"string2\", \"string3\", \"string4\", \"string5\", \"string6\", \"string7\", \"string8\", \"string9\", \"string10\"])\n",
    "items_t2 = Set([\"string3\", \"string4\", \"string5\", \"string6\", \"string7\", \"string8\", \"string9\", \"string10\", \"string11\"])\n",
    "items_t3 = Set([\"string5\", \"string6\", \"string7\", \"string8\", \"string9\", \"string10\", \"string11\"])\n",
    "\n",
    "set.add!(A, items_t1)\n",
    "set.add!(B, items_t2)\n",
    "set.add!(C, items_t3)\n",
    "\n",
    "U = A ∪ B ∪ C\n",
    "\n",
    "println(\"A: \", count(A))\n",
    "println(\"B: \", count(B))\n",
    "println(\"C: \", count(C))\n",
    "println(\"U: \", count(U), \"\\n\")\n",
    "\n",
    "println(\"AB = A ∩ B: \", count(A ∩ B))\n",
    "println(\"AC = A ∩ C: \", count(A ∩ C))\n",
    "println(\"BC = B ∩ C: \", count(B ∩ C), \"\\n\")\n",
    "\n",
    "println(\"P(A) = A / U: \", count(A) / count(U))\n",
    "println(\"P(B) = B / U: \", count(B) / count(U))\n",
    "println(\"P(C) = C / U: \", count(C) / count(U), \"\\n\")\n",
    "\n",
    "println(\"P(A | B) = AB / B: \", count(A ∩ B) / count(B))\n",
    "println(\"P(B | A) = AB / A: \", count(A ∩ B) / count(A))\n",
    "println(\"P(A | C) = AC / C: \", count(A ∩ C) / count(C))\n",
    "println(\"P(C | A) = AC / A: \", count(A ∩ C) / count(A), \"\\n\")\n",
    "\n",
    "println(\"P(B | C) = BC / C: \", count(B ∩ C) / count(C))\n",
    "println(\"P(C | B) = BC / B: \", count(B ∩ C) / count(B), \"\\n\")\n",
    "\n",
    "hll_diff = set.set_xor(A, B)\n",
    "println(\"HLL xor: \", count(hll_diff))\n",
    "\n",
    "hll_int = intersect(A, B)\n",
    "\n",
    "println(\"hll_int: \", count(hll_int))\n",
    "\n",
    "println()\n",
    "println(\"=====================================\")\n",
    "hll_comp_1 = set.set_comp(A, B)\n",
    "println(\"Comp 1: \", count(hll_comp_1))\n",
    "println(\"A: \", count(A))\n",
    "\n",
    "println()\n",
    "println(\"=====================================\")\n",
    "hll_comp_2 = set.set_comp(B, A)\n",
    "println(\"Comp 2: \", count(hll_comp_2))\n",
    "println(\"B: \", count(B))"
   ]
  }
 ],
 "metadata": {
  "kernelspec": {
   "display_name": "Julia 1.9.3",
   "language": "julia",
   "name": "julia-1.9"
  },
  "language_info": {
   "file_extension": ".jl",
   "mimetype": "application/julia",
   "name": "julia",
   "version": "1.9.3"
  }
 },
 "nbformat": 4,
 "nbformat_minor": 2
}
