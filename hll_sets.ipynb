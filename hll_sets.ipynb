{
 "cells": [
  {
   "cell_type": "markdown",
   "metadata": {},
   "source": [
    "# HllSet Relational Algebra\n",
    "\n",
    "The HyperLogLog (HLL)[2] algorithm is based on the observation that the cardinality of a multiset of uniformly distributed random numbers can be estimated by calculating the maximum number of trailing zeros in the binary representation of each number in the set. If the maximum number of trailing zeros observed is denoted as n, then an estimate for the number of distinct elements in the set is given by 2n. [1]\n",
    "\n",
    "However, the variance of this estimation can be significant. To address this issue, the HLL algorithm divides the multiset into multiple subsets. It calculates the maximum number of trailing zeros in the numbers within each subset and then combines these estimates using a harmonic mean to provide an overall estimate of the cardinality of the entire set.\n",
    "\n",
    "The HLL data structure is represented as a k-tuple t = (n1, n2, . . . ni … nk), where ni represents the maximum number of trailing zeros calculated for the i-th subset in the multiset. This structure allows for the lossless merging of two or more HLLs, where the resulting HLL is equivalent to the calculation performed on the union of the original datasets and yields the same cardinality estimation.\n",
    "\n",
    "While the HLL structure does not support other set operations, such as intersection, it is possible to enhance it by replacing the maximum number of zeros in the tuple t with bit-vectors. By incorporating bit-vectors to store all numbers of trailing zeros for each subset, this upgraded structure, we call it as HllSets (HyperLogLog Sets), enables the implementation of all set operations.\n",
    "\n",
    "# References\n",
    "https://en.wikipedia.org/wiki/HyperLogLog\n",
    "https://algo.inria.fr/flajolet/Publications/FlFuGaMe07.pdf\n",
    "https://static.googleusercontent.com/media/research.google.com/en//pubs/archive/40671.pdf\n",
    "https://redis.io/docs/data-types/probabilistic/hyperloglogs/\n",
    "https://github.com/ascv/HyperLogLog/blob/master/README.md\n",
    "https://en.wikipedia.org/wiki/Inclusion%E2%80%93exclusion_principle\n",
    "https://en.wikipedia.org/wiki/Algebra_of_sets\n",
    "https://github.com/alexmy21/lisa_meta/blob/main/lisa.ipynb\n"
   ]
  },
  {
   "cell_type": "code",
   "execution_count": null,
   "metadata": {},
   "outputs": [],
   "source": [
    "# using Pkg\n",
    "# Pkg.activate(\".\")\n",
    "# Pkg.instantiate()\n",
    "# Pkg.add(\"CSV\")\n",
    "# Pkg.add(\"Arrow\")\n",
    "# Pkg.add(\"Tables\")\n",
    "# Pkg.add(\"JSON3\")"
   ]
  },
  {
   "cell_type": "markdown",
   "metadata": {},
   "source": [
    "# Creating HllSets and applying basic operations"
   ]
  },
  {
   "cell_type": "code",
   "execution_count": null,
   "metadata": {},
   "outputs": [],
   "source": [
    "using Random\n",
    "using FilePathsBase: extension, Path\n",
    "\n",
    "include(\"src/sets32.jl\")\n",
    "\n",
    "import .HllSets as set\n",
    "\n",
    "# Initialize test HllSets\n",
    "hll1 = set.HllSet{5}(); hll1_seeded = set.HllSet{5}()\n",
    "hll2 = set.HllSet{5}(); hll2_seeded = set.HllSet{5}()\n",
    "hll3 = set.HllSet{5}(); hll3_seeded = set.HllSet{5}()\n",
    "hll4 = set.HllSet{5}(); hll4_seeded = set.HllSet{5}()\n",
    "hll5 = set.HllSet{5}(); hll5_seeded = set.HllSet{5}()\n",
    "\n",
    "# Generate datasets from random strings\n",
    "s1 = Set(randstring(7) for _ in 1:10)\n",
    "s2 = Set(randstring(7) for _ in 1:15)\n",
    "s3 = Set(randstring(7) for _ in 1:100)\n",
    "s4 = Set(randstring(7) for _ in 1:20)\n",
    "s5 = Set(randstring(7) for _ in 1:130)\n",
    "\n",
    "# Add datasets to HllSets\n",
    "set.add!(hll1, s1); set.add!(hll1_seeded, s1, seed=123)\n",
    "set.add!(hll2, s2); set.add!(hll2_seeded, s2, seed=123)\n",
    "set.add!(hll3, s3); set.add!(hll3_seeded, s3, seed=123)\n",
    "set.add!(hll4, s4); set.add!(hll4_seeded, s4, seed=123)\n",
    "set.add!(hll5, s5); set.add!(hll5_seeded, s5, seed=123)\n",
    "\n",
    "println(hll1.counts, \"\\n\", count(hll1))\n",
    "println(hll1_seeded.counts, \"\\n\", count(hll1_seeded))\n",
    "\n",
    "println(\"Size of hll1: \", set.sizeof(hll1), \"; \\nSize of hll1_seeded: \", set.sizeof(hll1_seeded))"
   ]
  },
  {
   "cell_type": "code",
   "execution_count": null,
   "metadata": {},
   "outputs": [],
   "source": [
    "# Print cardinality of datasets and HllSets side by side\n",
    "println(length(s1), \" : \", count(hll1))\n",
    "println(length(s2), \" : \", count(hll2))\n",
    "println(length(s3), \" : \", count(hll3))\n",
    "println(length(s4), \" : \", count(hll4))\n",
    "println(length(s5), \" : \", count(hll5))\n",
    "\n",
    "# union\n",
    "println(\"\\nunion:\\n\", length(s1 ∪ s2 ∪ s3 ∪ s4 ∪ s5), \" : \", count(hll1 ∪ hll2 ∪ hll3 ∪ hll4 ∪ hll5), \"\\n\")\n",
    "\n",
    "# intersection\n",
    "println(\"intersection (standard HllSet with seeded):\\n\", count(hll1 ∩ hll1_seeded))\n"
   ]
  },
  {
   "cell_type": "markdown",
   "metadata": {},
   "source": [
    "# HllSet Universes"
   ]
  },
  {
   "cell_type": "code",
   "execution_count": null,
   "metadata": {},
   "outputs": [],
   "source": [
    "A = set.HllSet{5}(); A_seeded = set.HllSet{5}()\n",
    "B = set.HllSet{5}(); B_seeded = set.HllSet{5}()\n",
    "C = set.HllSet{5}(); C_seeded = set.HllSet{5}()\n",
    "\n",
    "items_t1 = Set([\"string0\", \"string1\", \"string2\", \"string3\", \"string4\", \"string5\", \"string6\", \"string7\", \"string8\", \"string9\", \"string10\"])\n",
    "items_t2 = Set([\"string3\", \"string4\", \"string5\", \"string6\", \"string7\", \"string8\", \"string9\", \"string10\", \"string11\"])\n",
    "items_t3 = Set([\"string5\", \"string6\", \"string7\", \"string8\", \"string9\", \"string10\", \"string11\"])\n",
    "\n",
    "set.add!(A, items_t1); set.add!(A_seeded, items_t1, seed=123)\n",
    "set.add!(B, items_t2); set.add!(B_seeded, items_t2, seed=123)\n",
    "set.add!(C, items_t3); set.add!(C_seeded, items_t3, seed=123)"
   ]
  },
  {
   "cell_type": "code",
   "execution_count": null,
   "metadata": {},
   "outputs": [],
   "source": [
    "\n",
    "# Default and seeded HllSet Universes\n",
    "U = A ∪ B ∪ C; U_seeded = A_seeded ∪ B_seeded ∪ C_seeded\n",
    "\n",
    "println(\"A: \", count(A)); println(\"A_seeded: \", count(A_seeded))\n",
    "println(\"B: \", count(B)); println(\"B_seeded: \", count(B_seeded))\n",
    "println(\"C: \", count(C)); println(\"C_seeded: \", count(C_seeded))\n",
    "println(\"U: \", count(U)); println(\"U_seeded: \", count(U_seeded))\n",
    "\n",
    "println(\"AB = A ∩ B: \", count(A ∩ B)); println(\"AB_seeded = A_seeded ∩ B_seeded: \", count(A_seeded ∩ B_seeded))\n",
    "println(\"AC = A ∩ C: \", count(A ∩ C)); println(\"AC_seeded = A_seeded ∩ C_seeded: \", count(A_seeded ∩ C_seeded))\n",
    "println(\"BC = B ∩ C: \", count(B ∩ C)); println(\"BC_seeded = B_seeded ∩ C_seeded: \", count(B_seeded ∩ C_seeded))"
   ]
  },
  {
   "cell_type": "code",
   "execution_count": null,
   "metadata": {},
   "outputs": [],
   "source": [
    "# Probabilities\n",
    "println(\"P(A) = |A| / |U|: \", count(A) / count(U)); println(\"P(A_seeded) = |A_seeded| / |U_seeded|: \", count(A_seeded) / count(U_seeded))\n",
    "println(\"P(B) = |B| / |U|: \", count(B) / count(U)); println(\"P(B_seeded) = |B_seeded| / |U_seeded|: \", count(B_seeded) / count(U_seeded))\n",
    "println(\"P(C) = |C| / |U|: \", count(C) / count(U)); println(\"P(C_seeded) = |C_seeded| / |U_seeded|: \", count(C_seeded) / count(U_seeded), \"\\n\")\n",
    "\n",
    "# Conditional Probabilities\n",
    "println(\"P(A | B) = |AB| / |B|: \", count(A ∩ B) / count(B)); println(\"P(B_seeded | A_seeded) = |AB_seeded| / |A_seeded|: \", count(A_seeded ∩ B_seeded) / count(A_seeded))\n",
    "println(\"P(B | A) = |AB| / |A|: \", count(A ∩ B) / count(A)); println(\"P(A_seeded | B_seeded) = |AB_seeded| / |B_seeded|: \", count(A_seeded ∩ B_seeded) / count(B_seeded))\n",
    "println(\"P(A | C) = |AC| / |C|: \", count(A ∩ C) / count(C)); println(\"P(C_seeded | A_seeded) = |AC_seeded| / |A_seeded|: \", count(A_seeded ∩ C_seeded) / count(A_seeded))\n",
    "println(\"P(C | A) = |AC| / |A|: \", count(A ∩ C) / count(A)); println(\"P(A_seeded | C_seeded) = |AC_seeded| / |C_seeded|: \", count(A_seeded ∩ C_seeded) / count(C_seeded), \"\\n\")\n",
    "\n",
    "println(\"P(B | C) = BC / C: \", count(B ∩ C) / count(C))\n",
    "println(\"P(C | B) = BC / B: \", count(B ∩ C) / count(B), \"\\n\")\n",
    "\n",
    "hll_diff = set.set_xor(A, B)\n",
    "println(\"HLL xor: \", count(hll_diff))\n",
    "\n",
    "hll_int = intersect(A, B)\n",
    "\n",
    "println(\"hll_int: \", count(hll_int))\n",
    "\n",
    "println()\n",
    "println(\"=====================================\")\n",
    "hll_comp_1 = set.set_comp(A, B)\n",
    "println(\"Comp 1: \", count(hll_comp_1))\n",
    "println(\"A: \", count(A))\n",
    "\n",
    "println()\n",
    "println(\"=====================================\")\n",
    "hll_comp_2 = set.set_comp(B, A)\n",
    "println(\"Comp 2: \", count(hll_comp_2))\n",
    "println(\"B: \", count(B))"
   ]
  }
 ],
 "metadata": {
  "kernelspec": {
   "display_name": "Julia 1.9.3",
   "language": "julia",
   "name": "julia-1.9"
  },
  "language_info": {
   "file_extension": ".jl",
   "mimetype": "application/julia",
   "name": "julia",
   "version": "1.9.3"
  }
 },
 "nbformat": 4,
 "nbformat_minor": 2
}
